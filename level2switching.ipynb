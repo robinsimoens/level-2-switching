{
 "cells": [
  {
   "cell_type": "markdown",
   "id": "46aa6f97-2b23-4f48-a4d7-a64f97092b2f",
   "metadata": {},
   "source": [
    "# Switching methods of level 2"
   ]
  },
  {
   "cell_type": "code",
   "execution_count": 1,
   "id": "d312f22c-e580-4506-87d5-7add0a3b4860",
   "metadata": {},
   "outputs": [],
   "source": [
    "O = zero_matrix(2)\n",
    "I= identity_matrix(2)\n",
    "J = matrix([[1]*2]*2)\n",
    "Y = 2*I-J"
   ]
  },
  {
   "cell_type": "markdown",
   "id": "43abbc3e-843d-4aca-88e5-31f33f7efd5f",
   "metadata": {},
   "source": [
    "## Infinite family"
   ]
  },
  {
   "cell_type": "code",
   "execution_count": 2,
   "id": "c71b98c7-2929-4b26-9e34-9b9144d71be4",
   "metadata": {},
   "outputs": [],
   "source": [
    "def R2(m): # matrix R_2m\n",
    "    def row(i):\n",
    "        r = []\n",
    "        for j in range(m):\n",
    "            if i==j:\n",
    "                r.append(J)\n",
    "            elif i==j+1 or (i==0 and j==m-1):\n",
    "                r.append(Y)\n",
    "            else:\n",
    "                r.append(0)\n",
    "        return r\n",
    "    return 1/2*block_matrix([row(i) for i in range(m)])"
   ]
  },
  {
   "cell_type": "markdown",
   "id": "7dcbd114-434c-418d-ae9a-31a049b0dd6a",
   "metadata": {},
   "source": [
    "### Patching together adjacency matrices of the switching set"
   ]
  },
  {
   "cell_type": "code",
   "execution_count": 3,
   "id": "18019ef8-9955-4b3c-9bca-1c40a4e66aeb",
   "metadata": {},
   "outputs": [],
   "source": [
    "N = matrix([[0,0],[1,1]])\n",
    "blocks = [O,I,N,N.T] # 2x2 matrices with an even number of ones, up to complementation"
   ]
  },
  {
   "cell_type": "code",
   "execution_count": 4,
   "id": "a72e9541-f8ff-416a-a0f8-64cd67c2fa05",
   "metadata": {},
   "outputs": [
    {
     "data": {
      "text/plain": [
       "108"
      ]
     },
     "execution_count": 4,
     "metadata": {},
     "output_type": "execute_result"
    }
   ],
   "source": [
    "good_patches = [] # allowed square submatrices of B matrix of four 2x2 blocks\n",
    "for B11 in blocks:\n",
    "    for B12 in blocks:\n",
    "        for B21 in blocks:\n",
    "            for B22 in blocks:\n",
    "                B = block_matrix([[B11,B12],[B21,B22]])\n",
    "                Bnew = J*B11*J+J*B12*Y+Y*B21*J+Y*B22*Y\n",
    "                if all(all(i==0 or i==4 for i in r) for r in Bnew.rows()):\n",
    "                    good_patches.append(B)\n",
    "len(good_patches)"
   ]
  },
  {
   "cell_type": "code",
   "execution_count": 5,
   "id": "a1882695-2065-446e-8288-f32d5c30f041",
   "metadata": {},
   "outputs": [],
   "source": [
    "def Bmatrices(m): # adjacency matrices B such that R_2m^T*B*R_2m is and adjacency matrix again\n",
    "    B = zero_matrix(2*m)\n",
    "    # backtracking algorithm\n",
    "    def Bmatrices_rec(B,i,j): # adds a block to B on position (i,j)\n",
    "        if j==m:\n",
    "            yield B\n",
    "        else:\n",
    "            for block in blocks:\n",
    "                # fill\n",
    "                B[[2*i,2*i+1],[2*j,2*j+1]] = block\n",
    "                B[[2*j,2*j+1],[2*i,2*i+1]] = block.T\n",
    "                # branching method: check if 4x4 submatrix left below is good\n",
    "                if B[[2*i,2*i+1,2*i+2,2*i+3],[2*j-2,2*j-1,2*j,2*j+1]] in good_patches:\n",
    "                    if i==0:\n",
    "                        for B in Bmatrices_rec(B,j,j+1):\n",
    "                            yield B\n",
    "                    else:\n",
    "                        for B in Bmatrices_rec(B,i-1,j):\n",
    "                            yield B\n",
    "    for B in Bmatrices_rec(B,0,1):\n",
    "        Bnew = R2(m).T*B*R2(m)\n",
    "        if all(all(i==0 or i==1 for i in r) for r in Bnew.rows()):\n",
    "            yield matrix(B) # copy of B"
   ]
  },
  {
   "cell_type": "code",
   "execution_count": 6,
   "id": "a19ceb0b-7552-4e3f-9046-f3b8892695a4",
   "metadata": {},
   "outputs": [
    {
     "data": {
      "text/plain": [
       "[\n",
       "[0 0 0 0]  [0 0 1 0]\n",
       "[0 0 0 0]  [0 0 0 1]\n",
       "[0 0 0 0]  [1 0 0 0]\n",
       "[0 0 0 0], [0 1 0 0]\n",
       "]"
      ]
     },
     "execution_count": 6,
     "metadata": {},
     "output_type": "execute_result"
    }
   ],
   "source": [
    "list(Bmatrices(2)) # adjacency matrices for GM-switching"
   ]
  },
  {
   "cell_type": "code",
   "execution_count": 7,
   "id": "3b6b1b73-0cea-4726-a7f6-0c3b1ea12287",
   "metadata": {},
   "outputs": [
    {
     "data": {
      "text/plain": [
       "[\n",
       "[0 0 0 0 0 0]  [0 0 0 0 1 0]  [0 0 1 0 0 1]  [0 0 1 0 1 0]\n",
       "[0 0 0 0 0 0]  [0 0 0 0 0 1]  [0 0 0 1 0 1]  [0 0 0 1 0 1]\n",
       "[0 0 0 0 0 0]  [0 0 0 0 0 0]  [1 0 0 0 0 0]  [1 0 0 0 1 0]\n",
       "[0 0 0 0 0 0]  [0 0 0 0 1 1]  [0 1 0 0 0 0]  [0 1 0 0 0 1]\n",
       "[0 0 0 0 0 0]  [1 0 0 1 0 0]  [0 0 0 0 0 0]  [1 0 1 0 0 0]\n",
       "[0 0 0 0 0 0], [0 1 0 1 0 0], [1 1 0 0 0 0], [0 1 0 1 0 0],\n",
       "\n",
       "[0 0 0 0 0 0]  [0 0 0 0 0 1]\n",
       "[0 0 1 1 0 0]  [0 0 1 1 0 1]\n",
       "[0 1 0 0 1 0]  [0 1 0 0 0 0]\n",
       "[0 1 0 0 0 1]  [0 1 0 0 1 1]\n",
       "[0 0 1 0 0 0]  [0 0 0 1 0 0]\n",
       "[0 0 0 1 0 0], [1 1 0 1 0 0]\n",
       "]"
      ]
     },
     "execution_count": 7,
     "metadata": {},
     "output_type": "execute_result"
    }
   ],
   "source": [
    "list(Bmatrices(3)) # adjacency matrices for Six vertex AH-switching"
   ]
  },
  {
   "cell_type": "markdown",
   "id": "c2f0bec3-0886-4d57-b25f-9a7dc92a493f",
   "metadata": {},
   "source": [
    "### Up to conjugation"
   ]
  },
  {
   "cell_type": "code",
   "execution_count": 8,
   "id": "ed09e383-49b4-4417-af9b-576b398693dd",
   "metadata": {},
   "outputs": [],
   "source": [
    "def stabiliserR2(m):\n",
    "    P = zero_matrix(2*m)\n",
    "    for i in range(m-1):\n",
    "        P[[2*i,2*i+1],[2*i+2,2*i+3]] = I\n",
    "    P[[2*m-2,2*m-1],[0,1]] = I\n",
    "    Z = block_diagonal_matrix([J-I]+[I]*(m-1))\n",
    "    return [matrix(g) for g in MatrixGroup(P,Z)]"
   ]
  },
  {
   "cell_type": "code",
   "execution_count": 9,
   "id": "6a7f792d-de5a-4476-a111-6835696e4d80",
   "metadata": {},
   "outputs": [],
   "source": [
    "def Brepresentatives(m): # Bmatrices up to conjugation and complementation\n",
    "    reps = []\n",
    "    stab = stabiliserR2(m)\n",
    "    for B in Bmatrices(m):\n",
    "        Bcomplement = matrix([[1]*2*m]*2*m)-B-identity_matrix(2*m)\n",
    "        if not any(P.T*B*P in reps or P*Bcomplement*P.T in reps for P in stab):\n",
    "            reps.append(B)\n",
    "    return reps"
   ]
  },
  {
   "cell_type": "markdown",
   "id": "b47a26e9-8349-4ddf-a629-f474e75e6c5d",
   "metadata": {},
   "source": [
    "### Checking reducibility"
   ]
  },
  {
   "cell_type": "code",
   "execution_count": 10,
   "id": "f82e9c77-695b-496d-adf7-2ad7ef77349f",
   "metadata": {},
   "outputs": [],
   "source": [
    "def smaller_switchings(m): # decomposable regular orthogonal 2mx2m matrices of level 2\n",
    "    for integerPartition in Partitions(m):\n",
    "        if integerPartition == [m] or list(integerPartition).count(1) > 1:\n",
    "            continue # since we want only the strictly smaller switchings, and any diagonal block of size 2x2 must be I (by asking that count(1) > 1, we avoid double cases)\n",
    "        for setPartition in SetPartitions(range(m), integerPartition):\n",
    "            setPartition = [list(part) for part in setPartition]\n",
    "            for identityBlock in setPartition+[None]:\n",
    "                if list(integerPartition).count(1) == 1 and (identityBlock == None or len(identityBlock) != 1):\n",
    "                    continue\n",
    "                A = identity_matrix(QQ,2*m)\n",
    "                for i in range(m):\n",
    "                    for j in range(m):\n",
    "                        for part in setPartition:\n",
    "                            if not part==identityBlock and i in part and j in part:\n",
    "                                ii = part.index(i)\n",
    "                                jj = part.index(j)\n",
    "                                A[[2*i,2*i+1],[2*j,2*j+1]] = R2(len(part))[[2*ii,2*ii+1],[2*jj,2*jj+1]]\n",
    "                yield A\n",
    "                # if there are two or more indecomposable blocks of size 6 or larger, we have to take into account the direction of the smaller switching methods\n",
    "                # we are only going up to size 12, so this only occurs for Twelve vertex switching when there are two blocks of size 6\n",
    "                if m == 6 and identityBlock == None and list(integerPartition).count(3) == 2: # i.e. two parts of size 3\n",
    "                    for k in [0,1]:\n",
    "                        for i in range(m):\n",
    "                            for j in range(m):\n",
    "                                if i in setPartition[k] and j in setPartition[k]:\n",
    "                                    ii = setPartition[k].index(i)\n",
    "                                    jj = setPartition[k].index(j)\n",
    "                                    A[[2*i,2*i+1],[2*j,2*j+1]] = (R2(3)^(k+1))[[2*ii,2*ii+1],[2*jj,2*jj+1]] # two times Six vertex AH-switching, in opposite directions\n",
    "                    yield A"
   ]
  },
  {
   "cell_type": "code",
   "execution_count": 11,
   "id": "c254a980-5020-4a02-94c6-fc0f62c644dc",
   "metadata": {},
   "outputs": [
    {
     "data": {
      "text/plain": [
       "[\n",
       "[   1    0    0    0    0    0]  [ 1/2  1/2  1/2 -1/2    0    0]\n",
       "[   0    1    0    0    0    0]  [ 1/2  1/2 -1/2  1/2    0    0]\n",
       "[   0    0  1/2  1/2  1/2 -1/2]  [ 1/2 -1/2  1/2  1/2    0    0]\n",
       "[   0    0  1/2  1/2 -1/2  1/2]  [-1/2  1/2  1/2  1/2    0    0]\n",
       "[   0    0  1/2 -1/2  1/2  1/2]  [   0    0    0    0    1    0]\n",
       "[   0    0 -1/2  1/2  1/2  1/2], [   0    0    0    0    0    1],\n",
       "\n",
       "[ 1/2  1/2    0    0  1/2 -1/2]\n",
       "[ 1/2  1/2    0    0 -1/2  1/2]\n",
       "[   0    0    1    0    0    0]\n",
       "[   0    0    0    1    0    0]\n",
       "[ 1/2 -1/2    0    0  1/2  1/2]\n",
       "[-1/2  1/2    0    0  1/2  1/2]\n",
       "]"
      ]
     },
     "execution_count": 11,
     "metadata": {},
     "output_type": "execute_result"
    }
   ],
   "source": [
    "list(smaller_switchings(3)) # Six vertex AH-switching could be reducible to GM-switching"
   ]
  },
  {
   "cell_type": "code",
   "execution_count": 12,
   "id": "de5e47bc-20a5-4bb4-8d83-1f6b9591e54c",
   "metadata": {},
   "outputs": [],
   "source": [
    "def reducible(B,m):\n",
    "    possibleswitches = [identity_matrix(2*m)]\n",
    "    size = 0\n",
    "    while size < len(possibleswitches):\n",
    "        size = len(possibleswitches)\n",
    "        for R in possibleswitches:\n",
    "            for S in smaller_switchings(m):\n",
    "                RS = R*S\n",
    "                if RS in possibleswitches:\n",
    "                    continue\n",
    "                Bnew = RS.T*B*RS\n",
    "                if all(all(i==0 or i==1 for i in r) for r in Bnew.rows()):\n",
    "                    if set(RS.columns())==set(R2(m).columns()): # switching (conjugation) gives isomorphic graphs\n",
    "                        return True\n",
    "                    possibleswitches.append(RS)\n",
    "    return False"
   ]
  },
  {
   "cell_type": "code",
   "execution_count": 13,
   "id": "dfbc677a-4aa7-4b9d-84ba-4a7cec9880aa",
   "metadata": {},
   "outputs": [
    {
     "name": "stdout",
     "output_type": "stream",
     "text": [
      "2 irreducible 4x4 adjacency matrices:\n",
      "[0 0 0 0]\n",
      "[0 0 0 0]\n",
      "[0 0 0 0]\n",
      "[0 0 0 0] \n",
      "\n",
      "[0 0 1 0]\n",
      "[0 0 0 1]\n",
      "[1 0 0 0]\n",
      "[0 1 0 0] \n",
      "\n",
      "1 irreducible 6x6 adjacency matrices:\n",
      "[0 0 0 0 0 1]\n",
      "[0 0 1 1 0 1]\n",
      "[0 1 0 0 0 0]\n",
      "[0 1 0 0 1 1]\n",
      "[0 0 0 1 0 0]\n",
      "[1 1 0 1 0 0] \n",
      "\n",
      "0 irreducible 8x8 adjacency matrices:\n",
      "3 irreducible 10x10 adjacency matrices:\n",
      "[0 0 0 0 0 0 0 1 0 0]\n",
      "[0 0 0 0 1 1 0 1 0 0]\n",
      "[0 0 0 0 0 0 0 0 0 1]\n",
      "[0 0 0 0 0 0 1 1 0 1]\n",
      "[0 1 0 0 0 0 0 0 0 0]\n",
      "[0 1 0 0 0 0 0 0 1 1]\n",
      "[0 0 0 1 0 0 0 0 0 0]\n",
      "[1 1 0 1 0 0 0 0 0 0]\n",
      "[0 0 0 0 0 1 0 0 0 0]\n",
      "[0 0 1 1 0 1 0 0 0 0] \n",
      "\n",
      "[0 0 1 0 0 0 0 1 1 0]\n",
      "[0 0 0 1 1 1 0 1 0 1]\n",
      "[1 0 0 0 1 0 0 0 0 1]\n",
      "[0 1 0 0 0 1 1 1 0 1]\n",
      "[0 1 1 0 0 0 1 0 0 0]\n",
      "[0 1 0 1 0 0 0 1 1 1]\n",
      "[0 0 0 1 1 0 0 0 1 0]\n",
      "[1 1 0 1 0 1 0 0 0 1]\n",
      "[1 0 0 0 0 1 1 0 0 0]\n",
      "[0 1 1 1 0 1 0 1 0 0] \n",
      "\n",
      "[0 0 0 0 0 1 0 0 0 1]\n",
      "[0 0 1 1 0 1 1 1 0 1]\n",
      "[0 1 0 0 0 0 0 1 0 0]\n",
      "[0 1 0 0 1 1 0 1 1 1]\n",
      "[0 0 0 1 0 0 0 0 0 1]\n",
      "[1 1 0 1 0 0 1 1 0 1]\n",
      "[0 1 0 0 0 1 0 0 0 0]\n",
      "[0 1 1 1 0 1 0 0 1 1]\n",
      "[0 0 0 1 0 0 0 1 0 0]\n",
      "[1 1 0 1 1 1 0 1 0 0] \n",
      "\n",
      "18 irreducible 12x12 adjacency matrices:\n",
      "[0 0 0 0 1 0 0 0 0 0 0 1]\n",
      "[0 0 0 0 0 1 0 0 1 1 0 1]\n",
      "[0 0 0 0 0 0 1 0 0 0 0 0]\n",
      "[0 0 0 0 0 0 0 1 0 0 1 1]\n",
      "[1 0 0 0 0 0 0 0 0 1 0 0]\n",
      "[0 1 0 0 0 0 1 1 0 1 0 0]\n",
      "[0 0 1 0 0 1 0 0 0 0 0 0]\n",
      "[0 0 0 1 0 1 0 0 1 1 0 0]\n",
      "[0 1 0 0 0 0 0 1 0 0 1 0]\n",
      "[0 1 0 0 1 1 0 1 0 0 0 1]\n",
      "[0 0 0 1 0 0 0 0 1 0 0 0]\n",
      "[1 1 0 1 0 0 0 0 0 1 0 0] \n",
      "\n",
      "[0 0 0 0 1 0 1 0 0 1 1 0]\n",
      "[0 0 0 0 0 1 0 1 0 1 0 1]\n",
      "[0 0 0 0 0 0 1 0 0 0 0 0]\n",
      "[0 0 0 0 0 0 0 1 1 1 1 1]\n",
      "[1 0 0 0 0 0 0 0 0 0 0 1]\n",
      "[0 1 0 0 0 0 1 1 1 1 0 1]\n",
      "[1 0 1 0 0 1 0 0 1 0 0 0]\n",
      "[0 1 0 1 0 1 0 0 0 1 0 0]\n",
      "[0 0 0 1 0 1 1 0 0 0 1 0]\n",
      "[1 1 0 1 0 1 0 1 0 0 0 1]\n",
      "[1 0 0 1 0 0 0 0 1 0 0 0]\n",
      "[0 1 0 1 1 1 0 0 0 1 0 0] \n",
      "\n",
      "[0 0 0 0 1 0 1 0 0 0 0 1]\n",
      "[0 0 0 0 0 1 0 1 1 1 0 1]\n",
      "[0 0 0 0 0 0 1 0 1 0 0 0]\n",
      "[0 0 0 0 0 0 0 1 0 1 1 1]\n",
      "[1 0 0 0 0 0 0 0 0 1 1 0]\n",
      "[0 1 0 0 0 0 1 1 0 1 0 1]\n",
      "[1 0 1 0 0 1 0 0 0 0 0 0]\n",
      "[0 1 0 1 0 1 0 0 1 1 0 0]\n",
      "[0 1 1 0 0 0 0 1 0 0 1 0]\n",
      "[0 1 0 1 1 1 0 1 0 0 0 1]\n",
      "[0 0 0 1 1 0 0 0 1 0 0 0]\n",
      "[1 1 0 1 0 1 0 0 0 1 0 0] \n",
      "\n",
      "[0 0 0 0 1 0 0 1 0 0 0 0]\n",
      "[0 0 0 0 0 1 0 1 1 1 0 0]\n",
      "[0 0 0 0 0 0 0 0 0 0 0 1]\n",
      "[0 0 0 0 0 0 1 1 1 1 0 1]\n",
      "[1 0 0 0 0 0 0 0 0 0 0 0]\n",
      "[0 1 0 0 0 0 1 1 0 0 0 0]\n",
      "[0 0 0 1 0 1 0 0 1 0 0 0]\n",
      "[1 1 0 1 0 1 0 0 0 1 0 0]\n",
      "[0 1 0 1 0 0 1 0 0 0 1 0]\n",
      "[0 1 0 1 0 0 0 1 0 0 0 1]\n",
      "[0 0 0 0 0 0 0 0 1 0 0 0]\n",
      "[0 0 1 1 0 0 0 0 0 1 0 0] \n",
      "\n",
      "[0 0 0 0 1 0 0 1 0 0 0 0]\n",
      "[0 0 0 0 0 1 0 1 1 1 0 0]\n",
      "[0 0 0 0 0 0 0 0 0 0 0 1]\n",
      "[0 0 0 0 0 0 1 1 1 1 0 1]\n",
      "[1 0 0 0 0 0 0 0 0 1 0 0]\n",
      "[0 1 0 0 0 0 1 1 0 1 0 0]\n",
      "[0 0 0 1 0 1 0 0 0 0 0 1]\n",
      "[1 1 0 1 0 1 0 0 1 1 0 1]\n",
      "[0 1 0 1 0 0 0 1 0 0 0 0]\n",
      "[0 1 0 1 1 1 0 1 0 0 1 1]\n",
      "[0 0 0 0 0 0 0 0 0 1 0 0]\n",
      "[0 0 1 1 0 0 1 1 0 1 0 0] \n",
      "\n",
      "[0 0 0 0 0 0 0 1 1 0 0 1]\n",
      "[0 0 0 0 1 1 0 1 0 1 0 1]\n",
      "[0 0 0 0 0 0 0 0 0 1 0 0]\n",
      "[0 0 0 0 0 0 1 1 0 1 1 1]\n",
      "[0 1 0 0 0 0 0 0 0 0 0 0]\n",
      "[0 1 0 0 0 0 0 0 1 1 1 1]\n",
      "[0 0 0 1 0 0 0 0 0 0 0 1]\n",
      "[1 1 0 1 0 0 0 0 1 1 0 1]\n",
      "[1 0 0 0 0 1 0 1 0 0 0 0]\n",
      "[0 1 1 1 0 1 0 1 0 0 0 0]\n",
      "[0 0 0 1 0 1 0 0 0 0 0 0]\n",
      "[1 1 0 1 0 1 1 1 0 0 0 0] \n",
      "\n",
      "[0 0 0 0 0 0 0 1 0 0 0 1]\n",
      "[0 0 0 0 1 1 0 1 1 1 0 1]\n",
      "[0 0 0 0 0 0 0 0 0 1 0 0]\n",
      "[0 0 0 0 0 0 1 1 0 1 1 1]\n",
      "[0 1 0 0 0 0 0 0 0 0 0 0]\n",
      "[0 1 0 0 0 0 0 0 1 1 1 1]\n",
      "[0 0 0 1 0 0 0 0 0 0 0 1]\n",
      "[1 1 0 1 0 0 0 0 1 1 0 1]\n",
      "[0 1 0 0 0 1 0 1 0 0 0 0]\n",
      "[0 1 1 1 0 1 0 1 0 0 1 1]\n",
      "[0 0 0 1 0 1 0 0 0 1 0 0]\n",
      "[1 1 0 1 0 1 1 1 0 1 0 0] \n",
      "\n",
      "[0 0 0 0 1 0 1 0 1 0 0 1]\n",
      "[0 0 0 0 0 1 0 1 0 1 0 1]\n",
      "[0 0 0 0 0 0 0 1 1 0 0 0]\n",
      "[0 0 0 0 1 1 0 1 0 1 1 1]\n",
      "[1 0 0 1 0 0 0 0 1 0 1 0]\n",
      "[0 1 0 1 0 0 0 0 0 1 0 1]\n",
      "[1 0 0 0 0 0 0 0 0 0 0 1]\n",
      "[0 1 1 1 0 0 0 0 1 1 0 1]\n",
      "[1 0 1 0 1 0 0 1 0 0 0 0]\n",
      "[0 1 0 1 0 1 0 1 0 0 0 0]\n",
      "[0 0 0 1 1 0 0 0 0 0 0 0]\n",
      "[1 1 0 1 0 1 1 1 0 0 0 0] \n",
      "\n",
      "[0 0 0 0 1 0 0 0 0 1 0 1]\n",
      "[0 0 0 0 0 1 1 1 0 1 0 1]\n",
      "[0 0 0 0 0 0 0 1 0 1 0 0]\n",
      "[0 0 0 0 1 1 0 1 0 1 1 1]\n",
      "[1 0 0 1 0 0 0 0 0 0 0 0]\n",
      "[0 1 0 1 0 0 0 0 1 1 0 0]\n",
      "[0 1 0 0 0 0 0 0 0 0 0 1]\n",
      "[0 1 1 1 0 0 0 0 1 1 0 1]\n",
      "[0 0 0 0 0 1 0 1 0 0 0 0]\n",
      "[1 1 1 1 0 1 0 1 0 0 0 0]\n",
      "[0 0 0 1 0 0 0 0 0 0 0 0]\n",
      "[1 1 0 1 0 0 1 1 0 0 0 0] \n",
      "\n",
      "[0 0 0 0 1 0 0 0 0 0 0 1]\n",
      "[0 0 0 0 0 1 0 0 1 1 0 1]\n",
      "[0 0 0 0 0 0 0 1 0 0 0 0]\n",
      "[0 0 0 0 1 1 0 1 0 0 1 1]\n",
      "[1 0 0 1 0 0 0 0 0 0 0 0]\n",
      "[0 1 0 1 0 0 1 1 0 0 0 0]\n",
      "[0 0 0 0 0 1 0 0 1 0 0 0]\n",
      "[0 0 1 1 0 1 0 0 0 1 0 0]\n",
      "[0 1 0 0 0 0 1 0 0 0 1 0]\n",
      "[0 1 0 0 0 0 0 1 0 0 0 1]\n",
      "[0 0 0 1 0 0 0 0 1 0 0 0]\n",
      "[1 1 0 1 0 0 0 0 0 1 0 0] \n",
      "\n",
      "[0 0 0 0 1 0 1 0 0 0 0 1]\n",
      "[0 0 0 0 0 1 0 1 1 1 0 1]\n",
      "[0 0 0 0 0 0 0 1 1 0 0 0]\n",
      "[0 0 0 0 1 1 0 1 0 1 1 1]\n",
      "[1 0 0 1 0 0 0 0 0 0 1 0]\n",
      "[0 1 0 1 0 0 1 1 0 0 0 1]\n",
      "[1 0 0 0 0 1 0 0 1 0 0 0]\n",
      "[0 1 1 1 0 1 0 0 0 1 0 0]\n",
      "[0 1 1 0 0 0 1 0 0 0 1 0]\n",
      "[0 1 0 1 0 0 0 1 0 0 0 1]\n",
      "[0 0 0 1 1 0 0 0 1 0 0 0]\n",
      "[1 1 0 1 0 1 0 0 0 1 0 0] \n",
      "\n",
      "[0 0 0 0 0 0 0 0 0 1 0 1]\n",
      "[0 0 0 0 1 1 1 1 0 1 0 1]\n",
      "[0 0 0 0 0 0 0 1 0 1 0 0]\n",
      "[0 0 0 0 1 1 0 1 0 1 1 1]\n",
      "[0 1 0 1 0 0 0 0 0 0 0 0]\n",
      "[0 1 0 1 0 0 0 0 1 1 1 1]\n",
      "[0 1 0 0 0 0 0 0 0 0 0 1]\n",
      "[0 1 1 1 0 0 0 0 1 1 0 1]\n",
      "[0 0 0 0 0 1 0 1 0 0 0 0]\n",
      "[1 1 1 1 0 1 0 1 0 0 0 0]\n",
      "[0 0 0 1 0 1 0 0 0 0 0 0]\n",
      "[1 1 0 1 0 1 1 1 0 0 0 0] \n",
      "\n",
      "[0 0 1 0 0 0 1 0 0 0 0 1]\n",
      "[0 0 0 1 0 0 0 1 1 1 0 1]\n",
      "[1 0 0 0 1 0 0 0 0 1 0 1]\n",
      "[0 1 0 0 0 1 1 1 0 1 0 1]\n",
      "[0 0 1 0 0 0 1 0 0 1 0 0]\n",
      "[0 0 0 1 0 0 0 1 0 1 1 1]\n",
      "[1 0 0 1 1 0 0 0 0 0 0 1]\n",
      "[0 1 0 1 0 1 0 0 1 1 0 1]\n",
      "[0 1 0 0 0 0 0 1 0 0 0 0]\n",
      "[0 1 1 1 1 1 0 1 0 0 1 1]\n",
      "[0 0 0 0 0 1 0 0 0 1 0 0]\n",
      "[1 1 1 1 0 1 1 1 0 1 0 0] \n",
      "\n",
      "[0 0 1 0 0 0 0 1 0 0 0 1]\n",
      "[0 0 0 1 1 1 0 1 1 1 0 1]\n",
      "[1 0 0 0 1 0 0 0 0 1 0 1]\n",
      "[0 1 0 0 0 1 1 1 0 1 0 1]\n",
      "[0 1 1 0 0 0 1 0 0 1 0 0]\n",
      "[0 1 0 1 0 0 0 1 0 1 1 1]\n",
      "[0 0 0 1 1 0 0 0 0 0 0 0]\n",
      "[1 1 0 1 0 1 0 0 1 1 0 0]\n",
      "[0 1 0 0 0 0 0 1 0 0 1 0]\n",
      "[0 1 1 1 1 1 0 1 0 0 0 1]\n",
      "[0 0 0 0 0 1 0 0 1 0 0 0]\n",
      "[1 1 1 1 0 1 0 0 0 1 0 0] \n",
      "\n",
      "[0 0 1 0 0 0 0 1 0 0 0 1]\n",
      "[0 0 0 1 1 1 0 1 1 1 0 1]\n",
      "[1 0 0 0 1 0 0 0 0 1 0 1]\n",
      "[0 1 0 0 0 1 1 1 0 1 0 1]\n",
      "[0 1 1 0 0 0 1 0 0 1 0 0]\n",
      "[0 1 0 1 0 0 0 1 0 1 1 1]\n",
      "[0 0 0 1 1 0 0 0 0 0 0 1]\n",
      "[1 1 0 1 0 1 0 0 1 1 0 1]\n",
      "[0 1 0 0 0 0 0 1 0 0 0 0]\n",
      "[0 1 1 1 1 1 0 1 0 0 1 1]\n",
      "[0 0 0 0 0 1 0 0 0 1 0 0]\n",
      "[1 1 1 1 0 1 1 1 0 1 0 0] \n",
      "\n",
      "[0 0 1 0 0 1 0 0 0 0 0 1]\n",
      "[0 0 0 1 0 1 0 0 1 1 0 1]\n",
      "[1 0 0 0 0 0 0 0 0 0 0 0]\n",
      "[0 1 0 0 1 1 0 0 0 0 0 0]\n",
      "[0 0 0 1 0 0 1 0 0 1 0 0]\n",
      "[1 1 0 1 0 0 0 1 0 1 0 0]\n",
      "[0 0 0 0 1 0 0 0 0 0 0 0]\n",
      "[0 0 0 0 0 1 0 0 1 1 0 0]\n",
      "[0 1 0 0 0 0 0 1 0 0 1 0]\n",
      "[0 1 0 0 1 1 0 1 0 0 0 1]\n",
      "[0 0 0 0 0 0 0 0 1 0 0 0]\n",
      "[1 1 0 0 0 0 0 0 0 1 0 0] \n",
      "\n",
      "[0 0 1 0 0 1 0 0 0 0 0 1]\n",
      "[0 0 0 1 0 1 1 1 1 1 0 1]\n",
      "[1 0 0 0 0 0 0 0 1 0 0 1]\n",
      "[0 1 0 0 1 1 0 0 0 1 0 1]\n",
      "[0 0 0 1 0 0 1 0 0 1 0 0]\n",
      "[1 1 0 1 0 0 0 1 0 1 1 1]\n",
      "[0 1 0 0 1 0 0 0 0 0 0 0]\n",
      "[0 1 0 0 0 1 0 0 1 1 1 1]\n",
      "[0 1 1 0 0 0 0 1 0 0 1 0]\n",
      "[0 1 0 1 1 1 0 1 0 0 0 1]\n",
      "[0 0 0 0 0 1 0 1 1 0 0 0]\n",
      "[1 1 1 1 0 1 0 1 0 1 0 0] \n",
      "\n",
      "[0 0 1 0 0 1 0 0 0 0 0 1]\n",
      "[0 0 0 1 0 1 1 1 1 1 0 1]\n",
      "[1 0 0 0 0 0 0 0 0 1 0 1]\n",
      "[0 1 0 0 1 1 1 1 0 1 0 1]\n",
      "[0 0 0 1 0 0 1 0 0 1 0 0]\n",
      "[1 1 0 1 0 0 0 1 0 1 1 1]\n",
      "[0 1 0 1 1 0 0 0 0 0 0 0]\n",
      "[0 1 0 1 0 1 0 0 1 1 1 1]\n",
      "[0 1 0 0 0 0 0 1 0 0 1 0]\n",
      "[0 1 1 1 1 1 0 1 0 0 0 1]\n",
      "[0 0 0 0 0 1 0 1 1 0 0 0]\n",
      "[1 1 1 1 0 1 0 1 0 1 0 0] \n",
      "\n"
     ]
    }
   ],
   "source": [
    "for m in [2..6]:\n",
    "    Bs = [B for B in Brepresentatives(m) if not reducible(B,m)]\n",
    "    print(str(len(Bs)) + \" irreducible \" + str(2*m) + \"x\" + str(2*m) + \" adjacency matrices:\")\n",
    "    for B in Bs:\n",
    "        print(B, \"\\n\")"
   ]
  },
  {
   "cell_type": "markdown",
   "id": "d52e95af-4064-487f-9b25-66ee7f79de65",
   "metadata": {},
   "source": [
    "## Fano switching (Seven vertex AH-switching)"
   ]
  },
  {
   "cell_type": "code",
   "execution_count": 14,
   "id": "fcdbe311-ea3c-4e1c-bc02-2cec7e332155",
   "metadata": {},
   "outputs": [
    {
     "data": {
      "text/plain": [
       "[-1/2  1/2  1/2    0  1/2    0    0]\n",
       "[   0 -1/2  1/2  1/2    0  1/2    0]\n",
       "[   0    0 -1/2  1/2  1/2    0  1/2]\n",
       "[ 1/2    0    0 -1/2  1/2  1/2    0]\n",
       "[   0  1/2    0    0 -1/2  1/2  1/2]\n",
       "[ 1/2    0  1/2    0    0 -1/2  1/2]\n",
       "[ 1/2  1/2    0  1/2    0    0 -1/2]"
      ]
     },
     "execution_count": 14,
     "metadata": {},
     "output_type": "execute_result"
    }
   ],
   "source": [
    "Rfano = 1/2*matrix.circulant([-1,1,1,0,1,0,0])\n",
    "Rfano"
   ]
  },
  {
   "cell_type": "markdown",
   "id": "7881a69e-28a0-43aa-ad3f-30813c586591",
   "metadata": {},
   "source": [
    "### Adjacency matrices for the switching set"
   ]
  },
  {
   "cell_type": "code",
   "execution_count": 15,
   "id": "23107562-356d-4ff6-bea1-111392739980",
   "metadata": {},
   "outputs": [
    {
     "data": {
      "text/plain": [
       "144"
      ]
     },
     "execution_count": 15,
     "metadata": {},
     "output_type": "execute_result"
    }
   ],
   "source": [
    "Bmatrices = [] # adjacency matrices B such that Rfano^T*B*Rfano is an adjacency matrix again\n",
    "B = zero_matrix(7)\n",
    "# backtracking algorithm\n",
    "def Bmatrices_rec(B,i,j): # adds a 0 or 1 to B on position (i,j)\n",
    "    if i==6:\n",
    "        yield B\n",
    "    else:\n",
    "        for entry in [0,1]:\n",
    "            # fill\n",
    "            B[i,j] = entry\n",
    "            B[j,i] = entry\n",
    "            if j==6:\n",
    "                for B in Bmatrices_rec(B,i+1,i+2):\n",
    "                    yield B\n",
    "            else:\n",
    "                for B in Bmatrices_rec(B,i,j+1):\n",
    "                    yield B\n",
    "for B in Bmatrices_rec(B,0,2): # up to complementation, B[0,1] = 0\n",
    "    Bnew = Rfano.T*B*Rfano\n",
    "    if all(all(i==0 or i==1 for i in r) for r in Bnew.rows()):\n",
    "        Bmatrices.append(matrix(B)) # copy of B\n",
    "len(Bmatrices)"
   ]
  },
  {
   "cell_type": "markdown",
   "id": "1ed241a6-6ae4-4df0-8a6c-ed92c1861e45",
   "metadata": {},
   "source": [
    "### Up to conjugation"
   ]
  },
  {
   "cell_type": "code",
   "execution_count": 16,
   "id": "450a214a-46fd-49c2-bb3b-82f09001c814",
   "metadata": {},
   "outputs": [
    {
     "data": {
      "text/plain": [
       "21"
      ]
     },
     "execution_count": 16,
     "metadata": {},
     "output_type": "execute_result"
    }
   ],
   "source": [
    "stabFano = []\n",
    "for p in Permutations(7):\n",
    "    P = p.to_matrix()\n",
    "    if set((P.T*Rfano).columns()) == set(Rfano.columns()):\n",
    "        stabFano.append(P)\n",
    "len(stabFano)"
   ]
  },
  {
   "cell_type": "code",
   "execution_count": 17,
   "id": "68dc209d-fdde-48f2-a268-c57d9ac2ca30",
   "metadata": {},
   "outputs": [
    {
     "data": {
      "text/plain": [
       "12"
      ]
     },
     "execution_count": 17,
     "metadata": {},
     "output_type": "execute_result"
    }
   ],
   "source": [
    "Brepresentatives = [] # Bmatrices up to conjugation and complementation\n",
    "for B in Bmatrices:\n",
    "    Bcomplement = matrix([[1]*7]*7)-B-identity_matrix(7)\n",
    "    if not any(P.T*B*P in Brepresentatives or P.T*Bcomplement*P in Brepresentatives for P in stabFano):\n",
    "        Brepresentatives.append(B)\n",
    "len(Brepresentatives)"
   ]
  },
  {
   "cell_type": "markdown",
   "id": "32afef9d-9b68-4040-815d-9fdcd45cca05",
   "metadata": {},
   "source": [
    "### Checking reducibility"
   ]
  },
  {
   "cell_type": "code",
   "execution_count": 18,
   "id": "8a0a82b1-c94c-4715-8ee7-5a664bab9d21",
   "metadata": {},
   "outputs": [
    {
     "data": {
      "text/plain": [
       "14"
      ]
     },
     "execution_count": 18,
     "metadata": {},
     "output_type": "execute_result"
    }
   ],
   "source": [
    "smaller_switchings = [] # either GM- or Six vertex AH-switching\n",
    "#GM-switching sets are frames (four points, no three on a line)\n",
    "for s in IntegerModRing(7):\n",
    "    indices = [s,s+1,s+4,s+6] # frame of PG(2,2), in total there are seven\n",
    "    A = identity_matrix(QQ,7)\n",
    "    for i in range(4):\n",
    "        for j in range(4):\n",
    "            A[indices[i],indices[j]] = R2(2)[i,j]\n",
    "    smaller_switchings.append(A)\n",
    "#AH-switching sets are three lines through a point, without that point\n",
    "for s in IntegerModRing(7):\n",
    "    indices = []\n",
    "    for i in range(7):\n",
    "        if Rfano[i,s] == 1/2:\n",
    "            for j in range(7):\n",
    "                if s != j and Rfano[i,j] == 1/2:\n",
    "                    indices.append(j)\n",
    "    A = identity_matrix(QQ,7)\n",
    "    for i in range(6):\n",
    "        for j in range(6):\n",
    "            A[indices[i],indices[j]] = R2(3)[i,j]\n",
    "    smaller_switchings.append(A)\n",
    "len(smaller_switchings)"
   ]
  },
  {
   "cell_type": "code",
   "execution_count": 19,
   "id": "b7036986-c1e3-4ab2-a93e-33418385fadd",
   "metadata": {},
   "outputs": [],
   "source": [
    "def reducible(B):\n",
    "    possibleswitches = [identity_matrix(7)]\n",
    "    size = 0\n",
    "    while size < len(possibleswitches):\n",
    "        size = len(possibleswitches)\n",
    "        for R in possibleswitches:\n",
    "            for S in smaller_switchings:\n",
    "                RS = R*S\n",
    "                if RS in possibleswitches:\n",
    "                    continue\n",
    "                Bnew = RS.T*B*RS\n",
    "                if all(all(i==0 or i==1 for i in r) for r in Bnew.rows()):\n",
    "                    if set(RS.columns())==set(Rfano.columns()): # switching (conjugation) gives isomorphic graphs\n",
    "                        return True\n",
    "                    possibleswitches.append(RS)\n",
    "    return False"
   ]
  },
  {
   "cell_type": "code",
   "execution_count": 20,
   "id": "93047a4b-3fbb-4611-ae51-38f06d367754",
   "metadata": {},
   "outputs": [
    {
     "name": "stdout",
     "output_type": "stream",
     "text": [
      "2 irreducible adjacency matrices:\n",
      "[0 0 0 0 0 0 1]\n",
      "[0 0 0 0 1 1 1]\n",
      "[0 0 0 1 1 1 1]\n",
      "[0 0 1 0 0 0 1]\n",
      "[0 1 1 0 0 0 1]\n",
      "[0 1 1 0 0 0 0]\n",
      "[1 1 1 1 1 0 0] \n",
      "\n",
      "[0 0 0 1 1 0 0]\n",
      "[0 0 0 0 1 1 0]\n",
      "[0 0 0 0 0 1 1]\n",
      "[1 0 0 0 0 0 1]\n",
      "[1 1 0 0 0 0 0]\n",
      "[0 1 1 0 0 0 0]\n",
      "[0 0 1 1 0 0 0] \n",
      "\n"
     ]
    }
   ],
   "source": [
    "Bs = [B for B in Brepresentatives if not reducible(B)]\n",
    "print(str(len(Bs)) + \" irreducible adjacency matrices:\")\n",
    "for B in Bs:\n",
    "    print(B, \"\\n\")"
   ]
  },
  {
   "cell_type": "markdown",
   "id": "d33792a1-b0bb-41b4-8934-73d84f9bc3bd",
   "metadata": {},
   "source": [
    "The second one is the matrix B1 from \"A. Abiad and W.H. Haemers, Cospectral graphs and regular orthogonal matrices of level 2\". We check that the first one is equivalent to B3, which has the property that Rfano^T\\*B3\\*Rfano == Z7\\*B3\\*Z7 (again, see \"A. Abiad and W.H. Haemers, Cospectral graphs and regular orthogonal matrices of level 2\")."
   ]
  },
  {
   "cell_type": "code",
   "execution_count": 21,
   "id": "5317d429-d4b2-403b-8558-bf15c4c5f7be",
   "metadata": {},
   "outputs": [
    {
     "name": "stdout",
     "output_type": "stream",
     "text": [
      "[0 0 0 0 0 0 1]\n",
      "[0 0 0 0 1 1 1]\n",
      "[0 0 0 1 1 1 1]\n",
      "[0 0 1 0 0 0 1]\n",
      "[0 1 1 0 0 0 1]\n",
      "[0 1 1 0 0 0 0]\n",
      "[1 1 1 1 1 0 0]\n",
      "\n",
      "[0 0 0 0 0 1 1]\n",
      "[0 0 0 0 0 0 1]\n",
      "[0 0 0 1 0 1 1]\n",
      "[0 0 1 0 1 0 1]\n",
      "[0 0 0 1 0 1 0]\n",
      "[1 0 1 0 1 0 1]\n",
      "[1 1 1 1 0 1 0]\n"
     ]
    }
   ],
   "source": [
    "Z7 = zero_matrix(7)\n",
    "for i in range(7): Z7[i,6-i] = 1\n",
    "for B in Bs:\n",
    "    print(B) # first irreducible matrix\n",
    "    print()\n",
    "    for B3 in Bmatrices:\n",
    "        if Rfano.T*B3*Rfano == Z7*B3*Z7:\n",
    "            B3complement = matrix([[1]*7]*7)-B3-identity_matrix(7)\n",
    "            if any(P.T*B3*P==B or P.T*B3complement*P==B for P in stabFano): # B and B3 are equivalent\n",
    "                print(B3)\n",
    "                break\n",
    "    break"
   ]
  },
  {
   "cell_type": "markdown",
   "id": "25aad26f-ea8e-4e91-b369-77b3f1185176",
   "metadata": {},
   "source": [
    "## Cube switching (sporadic Eight vertex AH-switching)"
   ]
  },
  {
   "cell_type": "code",
   "execution_count": 22,
   "id": "fb6a91f9-192d-4fde-86ab-45520a2c3728",
   "metadata": {},
   "outputs": [
    {
     "data": {
      "text/plain": [
       "[-1/2    0  1/2    0  1/2    0  1/2    0]\n",
       "[   0 -1/2    0  1/2    0  1/2    0  1/2]\n",
       "[ 1/2    0    0 -1/2  1/2    0    0  1/2]\n",
       "[   0  1/2 -1/2    0    0  1/2  1/2    0]\n",
       "[ 1/2    0    0  1/2    0 -1/2  1/2    0]\n",
       "[   0  1/2  1/2    0 -1/2    0    0  1/2]\n",
       "[ 1/2    0  1/2    0    0  1/2    0 -1/2]\n",
       "[   0  1/2    0  1/2  1/2    0 -1/2    0]"
      ]
     },
     "execution_count": 22,
     "metadata": {},
     "output_type": "execute_result"
    }
   ],
   "source": [
    "Rcube = 1/2*block_matrix([[-I,I,I,I],[I,I-J,I,J-I],[I,J-I,I-J,I],[I,I,J-I,I-J]])\n",
    "Rcube"
   ]
  },
  {
   "cell_type": "code",
   "execution_count": 23,
   "id": "a04c3b19-d92a-452f-b0d2-647306610208",
   "metadata": {},
   "outputs": [
    {
     "name": "stdout",
     "output_type": "stream",
     "text": [
      "(0, 0, 0, 0, 0, 0, 0, 0) (0, 0, 0, 0, 0, 0, 0, 0)\n",
      "(1, 1, 1, 1, 0, 0, 0, 0) (0, 0, 0, 0, 1, 1, 1, 1)\n",
      "(1, 1, 0, 0, 1, 1, 0, 0) (0, 0, 1, 1, 0, 0, 1, 1)\n",
      "(0, 0, 1, 1, 1, 1, 0, 0) (1, 1, 0, 0, 0, 0, 1, 1)\n",
      "(1, 0, 1, 0, 1, 0, 1, 0) (1, 0, 1, 0, 1, 0, 1, 0)\n",
      "(0, 1, 0, 1, 1, 0, 1, 0) (1, 0, 0, 1, 0, 1, 1, 0)\n",
      "(0, 1, 1, 0, 0, 1, 1, 0) (1, 0, 1, 0, 0, 1, 0, 1)\n",
      "(1, 0, 0, 1, 0, 1, 1, 0) (0, 1, 1, 0, 0, 1, 1, 0)\n",
      "(0, 1, 1, 0, 1, 0, 0, 1) (1, 0, 0, 1, 1, 0, 0, 1)\n",
      "(1, 0, 0, 1, 1, 0, 0, 1) (0, 1, 0, 1, 1, 0, 1, 0)\n",
      "(1, 0, 1, 0, 0, 1, 0, 1) (0, 1, 1, 0, 1, 0, 0, 1)\n",
      "(0, 1, 0, 1, 0, 1, 0, 1) (0, 1, 0, 1, 0, 1, 0, 1)\n",
      "(1, 1, 0, 0, 0, 0, 1, 1) (0, 0, 1, 1, 1, 1, 0, 0)\n",
      "(0, 0, 1, 1, 0, 0, 1, 1) (1, 1, 0, 0, 1, 1, 0, 0)\n",
      "(0, 0, 0, 0, 1, 1, 1, 1) (1, 1, 1, 1, 0, 0, 0, 0)\n",
      "(1, 1, 1, 1, 1, 1, 1, 1) (1, 1, 1, 1, 1, 1, 1, 1)\n"
     ]
    }
   ],
   "source": [
    "neighboursets = [] # can be used to verify the switching conditions\n",
    "for v in GF(2)^8:\n",
    "    v = vector(QQ(i) for i in v)\n",
    "    if all(i==0 or i==1 for i in Rcube.T*v):\n",
    "        neighboursets.append(v)\n",
    "        print(v, Rcube.T*v)"
   ]
  },
  {
   "cell_type": "markdown",
   "id": "a372732e-8d46-439f-bf3d-c8393d3cfff4",
   "metadata": {},
   "source": [
    "### Adjacency matrices for the switching set"
   ]
  },
  {
   "cell_type": "markdown",
   "id": "59e00949-04ba-4628-b5bc-8b0b80e254da",
   "metadata": {},
   "source": [
    "May take several hours..."
   ]
  },
  {
   "cell_type": "code",
   "execution_count": 24,
   "id": "517296aa-8280-47ac-8ab6-32498547e5e8",
   "metadata": {},
   "outputs": [
    {
     "data": {
      "text/plain": [
       "752"
      ]
     },
     "execution_count": 24,
     "metadata": {},
     "output_type": "execute_result"
    }
   ],
   "source": [
    "Bmatrices = [] # adjacency matrices B such that C^T*B*C is and adjacency matrix again\n",
    "B = zero_matrix(8)\n",
    "# backtracking algorithm\n",
    "def Bmatrices_rec(B,i,j): # adds a 0 or 1 to B on position (i,j)\n",
    "    if i==7:\n",
    "        yield B\n",
    "    else:\n",
    "        for entry in [0,1]:\n",
    "            # fill\n",
    "            B[i,j] = entry\n",
    "            B[j,i] = entry\n",
    "            if j==7:\n",
    "                for B in Bmatrices_rec(B,i+1,i+2):\n",
    "                    yield B\n",
    "            else:\n",
    "                for B in Bmatrices_rec(B,i,j+1):\n",
    "                    yield B\n",
    "for B in Bmatrices_rec(B,0,2): # up to complementation, B[0,1] = 0\n",
    "    Bnew = Rcube.T*B*Rcube\n",
    "    if all(all(i==0 or i==1 for i in r) for r in Bnew.rows()):\n",
    "        Bmatrices.append(matrix(B)) # copy of B\n",
    "len(Bmatrices)"
   ]
  },
  {
   "cell_type": "markdown",
   "id": "95feb77c-035c-4a1a-ba1a-d11562032827",
   "metadata": {},
   "source": [
    "### Up to conjugation"
   ]
  },
  {
   "cell_type": "code",
   "execution_count": 25,
   "id": "e00f7a2e-8d41-4a3e-9e08-64ff10b0ca5f",
   "metadata": {},
   "outputs": [
    {
     "data": {
      "text/plain": [
       "24"
      ]
     },
     "execution_count": 25,
     "metadata": {},
     "output_type": "execute_result"
    }
   ],
   "source": [
    "stabCube = []\n",
    "for p in Permutations(8):\n",
    "    P = p.to_matrix()\n",
    "    if set((P.T*Rcube).columns()) == set(Rcube.columns()):\n",
    "        stabCube.append(P)\n",
    "len(stabCube)"
   ]
  },
  {
   "cell_type": "code",
   "execution_count": 26,
   "id": "95bd5557-f7a8-4cf5-aa5d-699db59a6346",
   "metadata": {},
   "outputs": [
    {
     "data": {
      "text/plain": [
       "40"
      ]
     },
     "execution_count": 26,
     "metadata": {},
     "output_type": "execute_result"
    }
   ],
   "source": [
    "Brepresentatives = [] # Bmatrices up to conjugation and complementation\n",
    "for B in Bmatrices:\n",
    "    Bcomplement = matrix([[1]*8]*8)-B-identity_matrix(8)\n",
    "    if not any(P.T*B*P in Brepresentatives or P.T*Bcomplement*P in Brepresentatives for P in stabCube):\n",
    "        Brepresentatives.append(B)\n",
    "len(Brepresentatives)"
   ]
  },
  {
   "cell_type": "markdown",
   "id": "59278f9e-a02b-49d4-8604-4b5ef46de0f1",
   "metadata": {},
   "source": [
    "### Checking reducibility"
   ]
  },
  {
   "cell_type": "markdown",
   "id": "fc654abf-8486-450b-ab52-b913e7e78f5f",
   "metadata": {},
   "source": [
    "Smaller switching sets from the infinite family and Fano-switching sets can occur in many ways, so we rather just enumerate all possible permutations of the smaller switching methods, but still up to the symmetries of these smaller switching methods themselves. We do not yet check if they agree with the conditions on the outside vertices."
   ]
  },
  {
   "cell_type": "code",
   "execution_count": 27,
   "id": "03851eee-d6a0-4639-99c6-ec6b1273ed5b",
   "metadata": {},
   "outputs": [],
   "source": [
    "permutationsAH = []\n",
    "stabAH = stabiliserR2(3)\n",
    "for p in Permutations(6):\n",
    "    P = p.to_matrix()\n",
    "    if not any(Pstab*P in permutationsAH for Pstab in stabAH):\n",
    "        permutationsAH.append(P)"
   ]
  },
  {
   "cell_type": "code",
   "execution_count": 28,
   "id": "f2ecceff-6943-4360-b6d3-f0586df3ad1e",
   "metadata": {},
   "outputs": [],
   "source": [
    "permutationsFano = []\n",
    "for p in Permutations(7):\n",
    "    P = p.to_matrix()\n",
    "    if not any(Pstab*P in permutationsFano for Pstab in stabFano):\n",
    "        permutationsFano.append(P)"
   ]
  },
  {
   "cell_type": "code",
   "execution_count": 29,
   "id": "6559c5c9-d66e-4f2a-9c39-76d5167d7e06",
   "metadata": {},
   "outputs": [
    {
     "data": {
      "text/plain": [
       "2865"
      ]
     },
     "execution_count": 29,
     "metadata": {},
     "output_type": "execute_result"
    }
   ],
   "source": [
    "smaller_switchings = [] # we first generate all smaller switching sets, also those that are not guaranteed to agree with the conditions on the outside vertices\n",
    "#GM-switching sets\n",
    "for indices in Combinations(8,4):\n",
    "    A = identity_matrix(QQ,8)\n",
    "    for i in range(4):\n",
    "        for j in range(4):\n",
    "            A[indices[i],indices[j]] = R2(2)[i,j]\n",
    "    smaller_switchings.append(A)\n",
    "# double GM-switching sets\n",
    "for setPartition in SetPartitions(range(8), [4,4]):\n",
    "    indices1 = list(setPartition[0])\n",
    "    indices2 = list(setPartition[1])\n",
    "    A = identity_matrix(QQ,8)\n",
    "    for i in range(4):\n",
    "        for j in range(4):\n",
    "            A[indices1[i],indices1[j]] = R2(2)[i,j]\n",
    "            A[indices2[i],indices2[j]] = R2(2)[i,j]\n",
    "    smaller_switchings.append(A)\n",
    "#AH-switching sets\n",
    "permreps = []\n",
    "for indices in Combinations(8,6):\n",
    "    for P in permutationsAH:\n",
    "        A = identity_matrix(QQ,8)\n",
    "        for i in range(6):\n",
    "            for j in range(6):\n",
    "                A[indices[i],indices[j]] = (P.T*R2(3)*P)[i,j]\n",
    "        smaller_switchings.append(A)\n",
    "#Fano switching sets\n",
    "for indices in Combinations(8,7):\n",
    "    for P in permutationsFano:\n",
    "        A = identity_matrix(QQ,8)\n",
    "        for i in range(7):\n",
    "            for j in range(7):\n",
    "                A[indices[i],indices[j]] = (P.T*Rfano*P)[i,j]\n",
    "        smaller_switchings.append(A)\n",
    "len(smaller_switchings)"
   ]
  },
  {
   "cell_type": "code",
   "execution_count": 30,
   "id": "3dc81341-a22c-4963-9357-5f349ec10600",
   "metadata": {},
   "outputs": [],
   "source": [
    "def reducible(B):\n",
    "    possibleswitches = [identity_matrix(8)]\n",
    "    size = 0\n",
    "    while size < len(possibleswitches):\n",
    "        size = len(possibleswitches)\n",
    "        for R in possibleswitches:\n",
    "            for S in smaller_switchings:\n",
    "                RS = R*S\n",
    "                if RS in possibleswitches:\n",
    "                    continue\n",
    "                Bnew = RS.T*B*RS\n",
    "                if all(all(i==0 or i==1 for i in r) for r in Bnew.rows()) and all(all(i==0 or i==1 for i in RS.T*v) for v in neighboursets): # check that it agrees with the conditions on the outside vertices\n",
    "                    if set(RS.columns())==set(Rcube.columns()): # switching (conjugation) gives isomorphic graphs\n",
    "                        return True\n",
    "                    possibleswitches.append(RS)\n",
    "    return False"
   ]
  },
  {
   "cell_type": "code",
   "execution_count": 31,
   "id": "b71ee49c-0e98-4efb-b932-a2a3680ff5e2",
   "metadata": {},
   "outputs": [
    {
     "name": "stdout",
     "output_type": "stream",
     "text": [
      "0 irreducible adjacency matrices:\n"
     ]
    }
   ],
   "source": [
    "Bs = [B for B in Brepresentatives if not reducible(B)]\n",
    "print(str(len(Bs)) + \" irreducible adjacency matrices:\")\n",
    "for B in Bs:\n",
    "    print(B, \"\\n\")"
   ]
  },
  {
   "cell_type": "markdown",
   "id": "64e3795c-3a3a-43ab-baf3-7da79ecd9b4f",
   "metadata": {},
   "source": [
    "So they are all reducible. Still, some interesting switching sets may be:"
   ]
  },
  {
   "cell_type": "code",
   "execution_count": 32,
   "id": "ca33c67f-2e59-4e7d-8524-c7cbc6b7c67e",
   "metadata": {},
   "outputs": [
    {
     "data": {
      "text/plain": [
       "[\n",
       "[0 0 0 0 0 0 0 0]  [0 0 0 0 0 0 1 1]  [0 0 0 0 1 1 1 1]\n",
       "[0 0 0 0 0 0 0 0]  [0 0 0 0 0 0 1 1]  [0 0 0 0 1 1 1 1]\n",
       "[0 0 0 0 0 0 0 0]  [0 0 0 0 1 1 0 0]  [0 0 0 0 1 1 1 1]\n",
       "[0 0 0 0 0 0 0 0]  [0 0 0 0 1 1 0 0]  [0 0 0 0 1 1 1 1]\n",
       "[0 0 0 0 0 0 0 0]  [0 0 1 1 0 0 0 0]  [1 1 1 1 0 0 0 0]\n",
       "[0 0 0 0 0 0 0 0]  [0 0 1 1 0 0 0 0]  [1 1 1 1 0 0 0 0]\n",
       "[0 0 0 0 0 0 0 0]  [1 1 0 0 0 0 0 0]  [1 1 1 1 0 0 0 0]\n",
       "[0 0 0 0 0 0 0 0], [1 1 0 0 0 0 0 0], [1 1 1 1 0 0 0 0],\n",
       "\n",
       "[0 0 0 1 0 1 0 1]  [0 0 1 1 1 1 1 1]\n",
       "[0 0 1 0 1 0 1 0]  [0 0 1 1 1 1 1 1]\n",
       "[0 1 0 0 0 1 0 1]  [1 1 0 0 1 1 1 1]\n",
       "[1 0 0 0 1 0 1 0]  [1 1 0 0 1 1 1 1]\n",
       "[0 1 0 1 0 0 0 1]  [1 1 1 1 0 0 1 1]\n",
       "[1 0 1 0 0 0 1 0]  [1 1 1 1 0 0 1 1]\n",
       "[0 1 0 1 0 1 0 0]  [1 1 1 1 1 1 0 0]\n",
       "[1 0 1 0 1 0 0 0], [1 1 1 1 1 1 0 0]\n",
       "]"
      ]
     },
     "execution_count": 32,
     "metadata": {},
     "output_type": "execute_result"
    }
   ],
   "source": [
    "[B for B in Brepresentatives if Rcube.T*B*Rcube == B]"
   ]
  },
  {
   "cell_type": "markdown",
   "id": "c0c32afb-2623-4c41-8d65-2dc903b41666",
   "metadata": {},
   "source": [
    "All (reducible) switching sets for Cube switching:"
   ]
  },
  {
   "cell_type": "code",
   "execution_count": 33,
   "id": "b979df04-451f-411f-a859-47af4c99defe",
   "metadata": {},
   "outputs": [
    {
     "data": {
      "text/plain": [
       "[\n",
       "[0 0 0 0 0 0 0 0]  [0 0 0 0 0 0 0 0]  [0 0 0 0 0 0 0 0]\n",
       "[0 0 0 0 0 0 0 0]  [0 0 0 0 1 1 1 0]  [0 0 0 1 1 0 1 0]\n",
       "[0 0 0 0 0 0 0 0]  [0 0 0 0 0 1 0 1]  [0 0 0 1 0 1 0 1]\n",
       "[0 0 0 0 0 0 0 0]  [0 0 0 0 1 0 1 1]  [0 1 1 0 1 0 0 1]\n",
       "[0 0 0 0 0 0 0 0]  [0 1 0 1 0 0 0 0]  [0 1 0 1 0 1 0 0]\n",
       "[0 0 0 0 0 0 0 0]  [0 1 1 0 0 0 1 0]  [0 0 1 0 1 0 0 0]\n",
       "[0 0 0 0 0 0 0 0]  [0 1 0 1 0 1 0 1]  [0 1 0 0 0 0 0 1]\n",
       "[0 0 0 0 0 0 0 0], [0 0 1 1 0 0 1 0], [0 0 1 1 0 0 1 0],\n",
       "\n",
       "[0 0 0 0 0 0 0 0]  [0 0 0 0 0 0 0 0]  [0 0 0 0 0 0 0 0]\n",
       "[0 0 0 1 1 1 1 0]  [0 0 1 0 1 0 1 0]  [0 0 1 0 1 0 1 1]\n",
       "[0 0 0 1 0 1 0 1]  [0 1 0 1 0 0 0 0]  [0 1 0 1 0 0 0 1]\n",
       "[0 1 1 0 1 1 0 1]  [0 0 1 0 0 0 0 0]  [0 0 1 0 0 0 0 0]\n",
       "[0 1 0 1 0 0 0 0]  [0 1 0 0 0 1 0 0]  [0 1 0 0 0 1 0 0]\n",
       "[0 1 1 1 0 0 1 0]  [0 0 0 0 1 0 0 0]  [0 0 0 0 1 0 0 1]\n",
       "[0 1 0 0 0 1 0 1]  [0 1 0 0 0 0 0 1]  [0 1 0 0 0 0 0 0]\n",
       "[0 0 1 1 0 0 1 0], [0 0 0 0 0 0 1 0], [0 1 1 0 0 1 0 0],\n",
       "\n",
       "[0 0 0 0 0 0 0 0]  [0 0 0 0 0 0 0 0]  [0 0 0 0 0 0 1 0]\n",
       "[0 0 1 0 1 1 1 1]  [0 0 1 1 1 1 1 1]  [0 0 0 0 0 0 1 1]\n",
       "[0 1 0 1 0 0 0 1]  [0 1 0 0 0 0 0 1]  [0 0 0 0 1 1 0 1]\n",
       "[0 0 1 0 0 1 0 0]  [0 1 0 0 1 1 0 1]  [0 0 0 0 1 1 0 0]\n",
       "[0 1 0 0 0 0 0 0]  [0 1 0 1 0 0 0 0]  [0 0 1 1 0 0 0 1]\n",
       "[0 1 0 1 0 0 1 1]  [0 1 0 1 0 0 1 1]  [0 0 1 1 0 0 0 0]\n",
       "[0 1 0 0 0 1 0 0]  [0 1 0 0 0 1 0 0]  [1 1 0 0 0 0 0 1]\n",
       "[0 1 1 0 0 1 0 0], [0 1 1 1 0 1 0 0], [0 1 1 0 1 0 1 0],\n",
       "\n",
       "[0 0 0 0 0 0 1 0]  [0 0 0 0 0 0 1 0]  [0 0 0 0 0 0 1 0]\n",
       "[0 0 0 0 0 1 0 1]  [0 0 0 0 0 1 1 1]  [0 0 0 1 1 0 1 0]\n",
       "[0 0 0 0 1 0 0 0]  [0 0 0 0 1 0 0 1]  [0 0 0 1 0 1 0 1]\n",
       "[0 0 0 0 1 1 1 1]  [0 0 0 0 1 1 0 0]  [0 1 1 0 1 0 1 1]\n",
       "[0 0 1 1 0 1 0 0]  [0 0 1 1 0 1 0 1]  [0 1 0 1 0 1 1 0]\n",
       "[0 1 0 1 1 0 1 0]  [0 1 0 1 1 0 0 1]  [0 0 1 0 1 0 0 0]\n",
       "[1 0 0 1 0 1 0 0]  [1 1 0 0 0 0 0 1]  [1 1 0 1 1 0 0 0]\n",
       "[0 1 0 1 0 0 0 0], [0 1 1 0 1 1 1 0], [0 0 1 1 0 0 0 0],\n",
       "\n",
       "[0 0 0 0 0 0 1 0]  [0 0 0 0 0 0 1 0]  [0 0 0 0 0 0 1 0]\n",
       "[0 0 0 1 1 1 1 0]  [0 0 1 0 0 0 1 1]  [0 0 1 0 0 1 0 1]\n",
       "[0 0 0 1 0 1 0 1]  [0 1 0 1 0 1 1 1]  [0 1 0 1 0 0 1 0]\n",
       "[0 1 1 0 1 1 1 1]  [0 0 1 0 1 1 0 0]  [0 0 1 0 1 1 1 1]\n",
       "[0 1 0 1 0 0 1 0]  [0 0 0 1 0 0 0 1]  [0 0 0 1 0 1 0 0]\n",
       "[0 1 1 1 0 0 1 0]  [0 0 1 1 0 0 0 0]  [0 1 0 1 1 0 1 0]\n",
       "[1 1 0 1 1 1 0 0]  [1 1 1 0 0 0 0 1]  [1 0 1 1 0 1 0 0]\n",
       "[0 0 1 1 0 0 0 0], [0 1 1 0 1 0 1 0], [0 1 0 1 0 0 0 0],\n",
       "\n",
       "[0 0 0 0 0 0 1 0]  [0 0 0 0 0 0 1 0]  [0 0 0 0 0 0 1 0]\n",
       "[0 0 1 0 0 1 1 0]  [0 0 1 0 0 1 1 1]  [0 0 1 1 1 0 0 0]\n",
       "[0 1 0 1 0 0 0 0]  [0 1 0 1 0 0 1 1]  [0 1 0 0 0 0 1 1]\n",
       "[0 0 1 0 1 1 1 0]  [0 0 1 0 1 1 0 0]  [0 1 0 0 1 0 1 0]\n",
       "[0 0 0 1 0 1 1 1]  [0 0 0 1 0 1 0 1]  [0 1 0 1 0 1 0 1]\n",
       "[0 1 0 1 1 0 1 0]  [0 1 0 1 1 0 0 1]  [0 0 0 0 1 0 0 1]\n",
       "[1 1 0 1 1 1 0 0]  [1 1 1 0 0 0 0 1]  [1 0 1 1 0 0 0 1]\n",
       "[0 0 0 0 1 0 0 0], [0 1 1 0 1 1 1 0], [0 0 1 0 1 1 1 0],\n",
       "\n",
       "[0 0 0 0 0 0 1 0]  [0 0 0 0 0 0 1 0]  [0 0 0 0 0 0 1 0]\n",
       "[0 0 1 1 1 0 1 0]  [0 0 1 1 1 1 0 0]  [0 0 1 1 1 1 1 0]\n",
       "[0 1 0 0 0 0 0 0]  [0 1 0 0 0 0 1 1]  [0 1 0 0 0 0 0 0]\n",
       "[0 1 0 0 1 0 1 1]  [0 1 0 0 1 1 1 0]  [0 1 0 0 1 1 1 1]\n",
       "[0 1 0 1 0 1 1 0]  [0 1 0 1 0 0 0 1]  [0 1 0 1 0 0 1 0]\n",
       "[0 0 0 0 1 0 0 0]  [0 1 0 1 0 0 1 1]  [0 1 0 1 0 0 1 0]\n",
       "[1 1 0 1 1 0 0 0]  [1 0 1 1 0 1 0 1]  [1 1 0 1 1 1 0 0]\n",
       "[0 0 0 1 0 0 0 0], [0 0 1 0 1 1 1 0], [0 0 0 1 0 0 0 0],\n",
       "\n",
       "[0 0 0 0 0 0 1 0]  [0 0 0 0 0 0 1 0]  [0 0 0 0 0 0 1 1]\n",
       "[0 0 1 1 1 1 1 0]  [0 0 1 1 1 1 1 1]  [0 0 0 0 0 0 1 1]\n",
       "[0 1 0 0 0 0 1 1]  [0 1 0 0 0 0 1 1]  [0 0 0 0 1 1 0 0]\n",
       "[0 1 0 0 1 1 0 0]  [0 1 0 0 1 1 0 1]  [0 0 0 0 1 1 0 0]\n",
       "[0 1 0 1 0 0 0 1]  [0 1 0 1 0 0 0 0]  [0 0 1 1 0 0 0 0]\n",
       "[0 1 0 1 0 0 0 1]  [0 1 0 1 0 0 0 1]  [0 0 1 1 0 0 0 0]\n",
       "[1 1 1 0 0 0 0 0]  [1 1 1 0 0 0 0 1]  [1 1 0 0 0 0 0 0]\n",
       "[0 0 1 0 1 1 0 0], [0 1 1 1 0 1 1 0], [1 1 0 0 0 0 0 0],\n",
       "\n",
       "[0 0 0 0 0 0 1 1]  [0 0 0 0 0 0 1 1]  [0 0 0 0 0 0 1 1]\n",
       "[0 0 0 1 1 0 0 0]  [0 0 0 1 1 0 1 0]  [0 0 0 1 1 1 0 0]\n",
       "[0 0 0 1 0 1 1 1]  [0 0 0 1 0 1 0 1]  [0 0 0 1 0 1 1 1]\n",
       "[0 1 1 0 1 0 1 0]  [0 1 1 0 1 0 1 0]  [0 1 1 0 1 1 1 0]\n",
       "[0 1 0 1 0 1 0 0]  [0 1 0 1 0 1 1 0]  [0 1 0 1 0 0 0 0]\n",
       "[0 0 1 0 1 0 0 1]  [0 0 1 0 1 0 0 1]  [0 1 1 1 0 0 1 1]\n",
       "[1 0 1 1 0 0 0 0]  [1 1 0 1 1 0 0 1]  [1 0 1 1 0 1 0 0]\n",
       "[1 0 1 0 0 1 0 0], [1 0 1 0 0 1 1 0], [1 0 1 0 0 1 0 0],\n",
       "\n",
       "[0 0 0 0 0 0 1 1]  [0 0 0 0 0 0 1 1]  [0 0 0 0 0 0 1 1]\n",
       "[0 0 1 0 0 1 0 1]  [0 0 1 0 0 1 1 1]  [0 0 1 1 1 0 0 0]\n",
       "[0 1 0 1 0 0 1 0]  [0 1 0 1 0 0 1 0]  [0 1 0 0 0 0 1 0]\n",
       "[0 0 1 0 1 1 1 0]  [0 0 1 0 1 1 0 0]  [0 1 0 0 1 0 1 0]\n",
       "[0 0 0 1 0 1 0 0]  [0 0 0 1 0 1 0 0]  [0 1 0 1 0 1 0 0]\n",
       "[0 1 0 1 1 0 1 1]  [0 1 0 1 1 0 0 1]  [0 0 0 0 1 0 0 1]\n",
       "[1 0 1 1 0 1 0 1]  [1 1 1 0 0 0 0 0]  [1 0 1 1 0 0 0 0]\n",
       "[1 1 0 0 0 1 1 0], [1 1 0 0 0 1 0 0], [1 0 0 0 0 1 0 0],\n",
       "\n",
       "[0 0 0 0 0 0 1 1]  [0 0 0 0 1 0 0 1]  [0 0 0 0 1 0 0 1]\n",
       "[0 0 1 1 1 1 0 0]  [0 0 0 1 0 1 0 0]  [0 0 0 1 0 1 1 0]\n",
       "[0 1 0 0 0 0 1 0]  [0 0 0 1 0 0 0 0]  [0 0 0 1 0 0 0 0]\n",
       "[0 1 0 0 1 1 1 0]  [0 1 1 0 1 0 1 1]  [0 1 1 0 1 0 0 1]\n",
       "[0 1 0 1 0 0 0 0]  [1 0 0 1 0 0 1 0]  [1 0 0 1 0 0 1 0]\n",
       "[0 1 0 1 0 0 1 1]  [0 1 0 0 0 0 1 1]  [0 1 0 0 0 0 0 1]\n",
       "[1 0 1 1 0 1 0 0]  [0 0 0 1 1 1 0 1]  [0 1 0 0 1 0 0 0]\n",
       "[1 0 0 0 0 1 0 0], [1 0 0 1 0 1 1 0], [1 0 0 1 0 1 0 0],\n",
       "\n",
       "[0 0 0 0 1 0 0 1]  [0 0 0 0 1 0 0 1]  [0 0 0 0 1 0 1 1]\n",
       "[0 0 0 1 1 0 0 0]  [0 0 0 1 1 0 0 1]  [0 0 1 0 0 1 1 1]\n",
       "[0 0 0 1 1 1 0 0]  [0 0 0 1 1 1 0 1]  [0 1 0 1 1 0 1 0]\n",
       "[0 1 1 0 1 0 1 1]  [0 1 1 0 1 0 1 1]  [0 0 1 0 1 1 0 0]\n",
       "[1 1 1 1 0 0 0 0]  [1 1 1 1 0 0 0 0]  [1 0 1 1 0 0 0 1]\n",
       "[0 0 1 0 0 0 1 0]  [0 0 1 0 0 0 1 1]  [0 1 0 1 0 0 0 1]\n",
       "[0 0 0 1 0 1 0 1]  [0 0 0 1 0 1 0 0]  [1 1 1 0 0 0 0 0]\n",
       "[1 0 0 1 0 0 1 0], [1 1 1 1 0 1 0 0], [1 1 0 0 1 1 0 0],\n",
       "\n",
       "[0 0 0 0 1 1 1 1]  [0 0 0 1 0 1 0 1]  [0 0 0 1 0 1 1 0]\n",
       "[0 0 0 0 1 1 1 1]  [0 0 1 0 1 0 1 0]  [0 0 1 0 1 0 0 1]\n",
       "[0 0 0 0 1 1 1 1]  [0 1 0 0 0 1 0 1]  [0 1 0 0 1 0 0 1]\n",
       "[0 0 0 0 1 1 1 1]  [1 0 0 0 1 0 1 0]  [1 0 0 0 0 1 1 0]\n",
       "[1 1 1 1 0 0 0 0]  [0 1 0 1 0 0 0 1]  [0 1 1 0 0 0 0 1]\n",
       "[1 1 1 1 0 0 0 0]  [1 0 1 0 0 0 1 0]  [1 0 0 1 0 0 1 0]\n",
       "[1 1 1 1 0 0 0 0]  [0 1 0 1 0 1 0 0]  [1 0 0 1 0 1 0 0]\n",
       "[1 1 1 1 0 0 0 0], [1 0 1 0 1 0 0 0], [0 1 1 0 1 0 0 0],\n",
       "\n",
       "[0 0 1 1 1 1 1 1]\n",
       "[0 0 1 1 1 1 1 1]\n",
       "[1 1 0 0 1 1 1 1]\n",
       "[1 1 0 0 1 1 1 1]\n",
       "[1 1 1 1 0 0 1 1]\n",
       "[1 1 1 1 0 0 1 1]\n",
       "[1 1 1 1 1 1 0 0]\n",
       "[1 1 1 1 1 1 0 0]\n",
       "]"
      ]
     },
     "execution_count": 33,
     "metadata": {},
     "output_type": "execute_result"
    }
   ],
   "source": [
    "Brepresentatives"
   ]
  }
 ],
 "metadata": {
  "kernelspec": {
   "display_name": "SageMath 9.7",
   "language": "sage",
   "name": "sagemath"
  },
  "language_info": {
   "codemirror_mode": {
    "name": "ipython",
    "version": 3
   },
   "file_extension": ".py",
   "mimetype": "text/x-python",
   "name": "python",
   "nbconvert_exporter": "python",
   "pygments_lexer": "ipython3",
   "version": "3.10.5"
  }
 },
 "nbformat": 4,
 "nbformat_minor": 5
}
